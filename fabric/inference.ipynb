{
 "cells": [
  {
   "cell_type": "markdown",
   "metadata": {
    "tags": []
   },
   "source": [
    "# Deploy a condor cluster and run Pycbc-Inference workflow\n",
    "\n",
    "This notebook shows how to create Condor cluster controlled by pegasus and run the Pycbc Inference workflow.\n"
   ]
  },
  {
   "cell_type": "markdown",
   "metadata": {},
   "source": [
    "## Import the FABlib Library\n"
   ]
  },
  {
   "cell_type": "code",
   "execution_count": null,
   "metadata": {},
   "outputs": [],
   "source": [
    "from ipaddress import ip_address, IPv4Address, IPv6Address, IPv4Network, IPv6Network\n",
    "import ipaddress\n",
    "\n",
    "from fabrictestbed_extensions.fablib.fablib import FablibManager as fablib_manager\n",
    "\n",
    "fablib = fablib_manager()\n",
    "                     \n",
    "fablib.show_config();"
   ]
  },
  {
   "cell_type": "markdown",
   "metadata": {
    "tags": []
   },
   "source": [
    "## Create the Experiment Slice\n",
    "\n",
    "The following creates three nodes with basic NICs connected to an isolated local Ethernet.  \n",
    "- poseidon-submit\n",
    "- poseidon-data\n",
    "- poseidon-worker1\n",
    "\n",
    "Sets up a condor cluster controlled by pegasus. Then installs all the required software and runs the inference workflow.\n"
   ]
  },
  {
   "cell_type": "code",
   "execution_count": null,
   "metadata": {},
   "outputs": [],
   "source": [
    "slice_name = 'Pycbc-Inference'\n",
    "site = fablib.get_random_site()\n",
    "print(f\"Site: {site}\")\n",
    "\n",
    "node1_name = 'poseidon-submit'\n",
    "node2_name = 'poseidon-data'\n",
    "node3_name = 'poseidon-worker1'\n",
    "\n",
    "network_name='net1'"
   ]
  },
  {
   "cell_type": "code",
   "execution_count": null,
   "metadata": {
    "tags": []
   },
   "outputs": [],
   "source": [
    "#Create Slice\n",
    "slice = fablib.new_slice(name=slice_name)\n",
    "\n",
    "# Network\n",
    "net1 = slice.add_l2network(name=network_name, subnet=IPv4Network(\"192.168.1.0/24\"))\n",
    "\n",
    "# Node1\n",
    "node1 = slice.add_node(name=node1_name, site=site, image=\"default_ubuntu_20\", cores=4, ram=16, disk=100)\n",
    "iface1 = node1.add_component(model='NIC_Basic', name='nic1').get_interfaces()[0]\n",
    "iface1.set_mode('auto')\n",
    "net1.add_interface(iface1)\n",
    "\n",
    "\n",
    "\n",
    "# Node2\n",
    "node2 = slice.add_node(name=node2_name, site=site, image=\"default_ubuntu_20\", cores=4, ram=16, disk=100)\n",
    "iface2 = node2.add_component(model='NIC_Basic', name='nic1').get_interfaces()[0]\n",
    "iface2.set_mode('auto')\n",
    "net1.add_interface(iface2)\n",
    "\n",
    "\n",
    "# Node3\n",
    "node3 = slice.add_node(name=node3_name, site=site, image=\"default_ubuntu_20\", cores=4, ram=16, disk=100)\n",
    "iface3 = node3.add_component(model='NIC_Basic', name='nic1').get_interfaces()[0]\n",
    "iface3.set_mode('auto')\n",
    "net1.add_interface(iface3)\n",
    "\n",
    "# Run the appropriate boot scripts\n",
    "for n in slice.get_nodes():\n",
    "    n.add_post_boot_execute('git clone https://github.com/PoSeiDon-Workflows/pycbc.git')\n",
    "    if \"data\" in n.get_name():\n",
    "        n.add_post_boot_execute('sudo pycbc/fabric/scripts/data.sh')\n",
    "    elif \"submit\" in n.get_name():\n",
    "        n.add_post_boot_execute('sudo pycbc/fabric/scripts/submit-data.sh')\n",
    "        #n.add_post_boot_execute('yes | sudo pycbc/inference/pycbc/setup.sh')\n",
    "    else:\n",
    "        n.add_post_boot_execute('sudo pycbc/fabric/scripts/worker.sh')\n",
    "        #n.add_post_boot_execute('yes | sudo pycbc/inference/pycbc/setup.sh')\n",
    "    \n",
    "\n",
    "#Submit Slice Request\n",
    "slice.submit();"
   ]
  },
  {
   "cell_type": "markdown",
   "metadata": {},
   "source": [
    "## Fetch the slice and wait for nodes to be back up post reboot"
   ]
  },
  {
   "cell_type": "code",
   "execution_count": null,
   "metadata": {},
   "outputs": [],
   "source": [
    "slice = fablib.get_slice(slice_name)"
   ]
  },
  {
   "cell_type": "code",
   "execution_count": null,
   "metadata": {},
   "outputs": [],
   "source": [
    "slice.wait_ssh()"
   ]
  },
  {
   "cell_type": "markdown",
   "metadata": {},
   "source": [
    "## Reconfigure IP addresses for the interfaces post reboot"
   ]
  },
  {
   "cell_type": "code",
   "execution_count": null,
   "metadata": {},
   "outputs": [],
   "source": [
    "# Reconfigure IP addresses post reboot\n",
    "for n1 in slice.get_nodes():\n",
    "    n1.config()"
   ]
  },
  {
   "cell_type": "markdown",
   "metadata": {},
   "source": [
    "## Setup the keys between submit and worker nodes"
   ]
  },
  {
   "cell_type": "code",
   "execution_count": null,
   "metadata": {},
   "outputs": [],
   "source": [
    "# Generate SSH Keys for root and poseidon users\n",
    "for n1 in slice.get_nodes():\n",
    "    n1.execute('sudo ssh-keygen -t rsa -N \"\" -f /root/.ssh/id_rsa', quiet=True)\n",
    "    n1.execute('sudo -u poseidon ssh-keygen -t rsa -N \"\" -f /home/poseidon/.ssh/id_rsa', quiet=True)"
   ]
  },
  {
   "cell_type": "code",
   "execution_count": null,
   "metadata": {},
   "outputs": [],
   "source": [
    "# Update /etc/hosts and authorized_keys\n",
    "for n1 in slice.get_nodes():\n",
    "    for n2 in slice.get_nodes():\n",
    "        if n1.get_name() != n2.get_name():\n",
    "            node2_addr = n2.get_interface(network_name=network_name).get_ip_addr()\n",
    "            \n",
    "            # Update /etc/hosts\n",
    "            n1.execute(f'sudo sh -c \\'echo \"{node2_addr} {n2.get_name()}\" >> /etc/hosts\\'')\n",
    "            \n",
    "            # Setup authorized_keys for root user\n",
    "            stdout, stderr = n2.execute(\"sudo cat /root/.ssh/id_rsa.pub\", quiet=True)\n",
    "            n1.execute(f'sudo sh -c \\'echo \"{stdout}\" >> /root/.ssh/authorized_keys\\'')\n",
    "            \n",
    "            # Setup authorized_keys for poseidon user\n",
    "            stdout, stderr = n2.execute(\"sudo -u poseidon cat /home/poseidon/.ssh/id_rsa.pub\", quiet=True)\n",
    "            n1.execute(f'sudo -u poseidon sh -c \\'echo \"{stdout}\" >> /home/poseidon/.ssh/authorized_keys\\'')"
   ]
  },
  {
   "cell_type": "markdown",
   "metadata": {},
   "source": [
    "## Update condor config to use the correct interface name"
   ]
  },
  {
   "cell_type": "code",
   "execution_count": null,
   "metadata": {},
   "outputs": [],
   "source": [
    "slice = fablib.get_slice(slice_name)"
   ]
  },
  {
   "cell_type": "code",
   "execution_count": null,
   "metadata": {},
   "outputs": [],
   "source": [
    "node1 = slice.get_node(name=node1_name)\n",
    "node1_if_device_name = node1.get_interface(network_name=network_name).get_device_name()\n",
    "node1.execute(f\"sudo sed -i 's/NETWORK_INTERFACE = ens7/NETWORK_INTERFACE = {node1_if_device_name}/' /etc/condor/config.d/50-main.config\")"
   ]
  },
  {
   "cell_type": "code",
   "execution_count": null,
   "metadata": {},
   "outputs": [],
   "source": [
    "node3 = slice.get_node(name=node3_name)\n",
    "node3_if_device_name = node3.get_interface(network_name=network_name).get_device_name()\n",
    "node3.execute(f\"sudo sed -i 's/NETWORK_INTERFACE = ens7/NETWORK_INTERFACE = {node3_if_device_name}/' /etc/condor/config.d/50-main.config\")"
   ]
  },
  {
   "cell_type": "markdown",
   "metadata": {},
   "source": [
    "## Check condor status\n",
    "\n",
    "After the config update, you may have to re-reun this cell couple of times for condor to pick up the changes"
   ]
  },
  {
   "cell_type": "code",
   "execution_count": null,
   "metadata": {},
   "outputs": [],
   "source": [
    "node1.execute(\"condor_status\")"
   ]
  },
  {
   "cell_type": "markdown",
   "metadata": {},
   "source": [
    "## Install the required packages on submit and worker nodes\n",
    "\n",
    "Setup is now ready to deploy inference changes. Login to the submit and worker nodes and run the `setup.sh`"
   ]
  },
  {
   "cell_type": "code",
   "execution_count": null,
   "metadata": {},
   "outputs": [],
   "source": [
    "for n in slice.get_nodes():\n",
    "    print(f\"Login to {n.get_name()} using: {n.get_ssh_command()}\")"
   ]
  },
  {
   "cell_type": "markdown",
   "metadata": {},
   "source": [
    "NOTE: This step is done manually to avoid prompts on ubuntu which are not disabled even when noninteractive mode is enabled.\n",
    "\n",
    "```\n",
    "cd /home/ubuntu/pycbc/inference/pycbc\n",
    "./setup.sh\n",
    "```"
   ]
  },
  {
   "cell_type": "markdown",
   "metadata": {},
   "source": [
    "## Start the workflow on the submit node"
   ]
  },
  {
   "cell_type": "code",
   "execution_count": null,
   "metadata": {},
   "outputs": [],
   "source": [
    "node1 = slice.get_node(name=node1_name)"
   ]
  },
  {
   "cell_type": "markdown",
   "metadata": {},
   "source": [
    "### Fetch the workflow\n",
    "Clone the workflow repository"
   ]
  },
  {
   "cell_type": "code",
   "execution_count": null,
   "metadata": {},
   "outputs": [],
   "source": [
    "node1.execute('sudo -u poseidon sh -c \"mkdir -p /home/poseidon/workflows\" && sudo -u poseidon sh -c \"git clone https://github.com/PoSeiDon-Workflows/pycbc.git /home/poseidon/workflows/pycbc\"')"
   ]
  },
  {
   "cell_type": "markdown",
   "metadata": {},
   "source": [
    "### Dowload the data files"
   ]
  },
  {
   "cell_type": "code",
   "execution_count": null,
   "metadata": {},
   "outputs": [],
   "source": [
    "node2 = slice.get_node(name=node2_name)"
   ]
  },
  {
   "cell_type": "code",
   "execution_count": null,
   "metadata": {},
   "outputs": [],
   "source": [
    "node2.execute('sudo -u poseidon sh -c \"mkdir -p /home/poseidon/workflows\" && sudo -u poseidon sh -c \"git clone https://github.com/PoSeiDon-Workflows/pycbc.git /home/poseidon/workflows/pycbc\"')"
   ]
  },
  {
   "cell_type": "code",
   "execution_count": null,
   "metadata": {},
   "outputs": [],
   "source": [
    "node2.execute('sudo -u poseidon sh -c \"/home/poseidon/workflows/pycbc/inference/pycbc/data/get.sh /home/poseidon/workflows/pycbc/inference/pycbc/data\"')"
   ]
  },
  {
   "cell_type": "markdown",
   "metadata": {},
   "source": [
    "### Run the workflow"
   ]
  },
  {
   "cell_type": "code",
   "execution_count": null,
   "metadata": {},
   "outputs": [],
   "source": [
    "node1.execute('sudo -u poseidon sh -c \"chmod +x /home/poseidon/workflows/pycbc/inference/pycbc/gw_output/run.sh\"')"
   ]
  },
  {
   "cell_type": "code",
   "execution_count": null,
   "metadata": {},
   "outputs": [],
   "source": [
    "node1.execute('sudo -u poseidon sh -c \"/home/poseidon/workflows/pycbc/inference/pycbc/gw_output/run.sh\"')"
   ]
  },
  {
   "cell_type": "markdown",
   "metadata": {},
   "source": [
    "## Delete the Slice\n",
    "\n",
    "Please delete your slice when you are done with your experiment."
   ]
  },
  {
   "cell_type": "code",
   "execution_count": null,
   "metadata": {},
   "outputs": [],
   "source": [
    "slice.delete()"
   ]
  },
  {
   "cell_type": "code",
   "execution_count": null,
   "metadata": {},
   "outputs": [],
   "source": []
  }
 ],
 "metadata": {
  "kernelspec": {
   "display_name": "Python 3 (ipykernel)",
   "language": "python",
   "name": "python3"
  },
  "language_info": {
   "codemirror_mode": {
    "name": "ipython",
    "version": 3
   },
   "file_extension": ".py",
   "mimetype": "text/x-python",
   "name": "python",
   "nbconvert_exporter": "python",
   "pygments_lexer": "ipython3",
   "version": "3.10.6"
  }
 },
 "nbformat": 4,
 "nbformat_minor": 4
}
